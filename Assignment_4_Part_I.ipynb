{
 "cells": [
  {
   "cell_type": "code",
   "execution_count": 1,
   "metadata": {},
   "outputs": [
    {
     "name": "stdout",
     "output_type": "stream",
     "text": [
      "67.7\n",
      "89\n",
      "11359\n",
      "684232\n"
     ]
    }
   ],
   "source": [
    "import math\n",
    "math.ceil\n",
    "\n",
    "speed = float(input())\n",
    "fuel_liter_100_km = float(input())\n",
    "\n",
    "distance = 384400 * 2\n",
    "time_needed = distance / speed\n",
    "total_time = time_needed + 3\n",
    "fuel_trip = (distance * fuel_liter_100_km)/ 100\n",
    "\n",
    "print(math.ceil(total_time))\n",
    "print(math.ceil(fuel_trip))"
   ]
  }
 ],
 "metadata": {
  "kernelspec": {
   "display_name": "Python 3",
   "language": "python",
   "name": "python3"
  },
  "language_info": {
   "codemirror_mode": {
    "name": "ipython",
    "version": 3
   },
   "file_extension": ".py",
   "mimetype": "text/x-python",
   "name": "python",
   "nbconvert_exporter": "python",
   "pygments_lexer": "ipython3",
   "version": "3.7.6"
  }
 },
 "nbformat": 4,
 "nbformat_minor": 4
}
